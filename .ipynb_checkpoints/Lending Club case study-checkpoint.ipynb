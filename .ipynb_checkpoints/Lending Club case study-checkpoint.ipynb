{
 "cells": [
  {
   "cell_type": "markdown",
   "id": "23d0379e",
   "metadata": {},
   "source": [
    "<!-- ### Importing all the required libraries -->"
   ]
  },
  {
   "cell_type": "markdown",
   "id": "c0bcbd6b",
   "metadata": {},
   "source": [
    "### Importing all the required libraries"
   ]
  },
  {
   "cell_type": "code",
   "execution_count": 1,
   "id": "8e6606ec",
   "metadata": {},
   "outputs": [
    {
     "name": "stderr",
     "output_type": "stream",
     "text": [
      "C:\\Users\\admin\\anaconda3\\envs\\Healthark\\lib\\site-packages\\scipy\\__init__.py:146: UserWarning: A NumPy version >=1.16.5 and <1.23.0 is required for this version of SciPy (detected version 1.23.1\n",
      "  warnings.warn(f\"A NumPy version >={np_minversion} and <{np_maxversion}\"\n"
     ]
    },
    {
     "data": {
      "text/html": [
       "<svg  width=\"330\" height=\"55\"><rect x=\"0\" y=\"0\" width=\"55\" height=\"55\" style=\"fill:#35193e;stroke-width:2;stroke:rgb(255,255,255)\"/><rect x=\"55\" y=\"0\" width=\"55\" height=\"55\" style=\"fill:#701f57;stroke-width:2;stroke:rgb(255,255,255)\"/><rect x=\"110\" y=\"0\" width=\"55\" height=\"55\" style=\"fill:#ad1759;stroke-width:2;stroke:rgb(255,255,255)\"/><rect x=\"165\" y=\"0\" width=\"55\" height=\"55\" style=\"fill:#e13342;stroke-width:2;stroke:rgb(255,255,255)\"/><rect x=\"220\" y=\"0\" width=\"55\" height=\"55\" style=\"fill:#f37651;stroke-width:2;stroke:rgb(255,255,255)\"/><rect x=\"275\" y=\"0\" width=\"55\" height=\"55\" style=\"fill:#f6b48f;stroke-width:2;stroke:rgb(255,255,255)\"/></svg>"
      ],
      "text/plain": [
       "[(0.20973515, 0.09747934, 0.24238489),\n",
       " (0.43860848, 0.12177004, 0.34119475),\n",
       " (0.67824099, 0.09192342, 0.3504148),\n",
       " (0.8833417, 0.19830556, 0.26014181),\n",
       " (0.95381595, 0.46373781, 0.31769923),\n",
       " (0.96516917, 0.70776351, 0.5606593)]"
      ]
     },
     "execution_count": 1,
     "metadata": {},
     "output_type": "execute_result"
    }
   ],
   "source": [
    "import pandas as pd\n",
    "import numpy as np\n",
    "import matplotlib.pyplot as plt\n",
    "import plotly.express as px\n",
    "import plotly.figure_factory as ff\n",
    "import plotly.graph_objects as go\n",
    "import seaborn as sns\n",
    "import warnings\n",
    "warnings.filterwarnings('ignore')\n",
    "from plotly.subplots import make_subplots\n",
    "sns.set_style('white')\n",
    "sns.set_theme(palette='tab10')\n",
    "sns.color_palette(\"rocket\")"
   ]
  },
  {
   "cell_type": "markdown",
   "id": "8b06d32d",
   "metadata": {},
   "source": [
    "#### Reading a CSV file"
   ]
  },
  {
   "cell_type": "code",
   "execution_count": 2,
   "id": "2d4dab2d",
   "metadata": {},
   "outputs": [
    {
     "ename": "FileNotFoundError",
     "evalue": "[Errno 2] No such file or directory: 'loan/loan.csv'",
     "output_type": "error",
     "traceback": [
      "\u001b[1;31m---------------------------------------------------------------------------\u001b[0m",
      "\u001b[1;31mFileNotFoundError\u001b[0m                         Traceback (most recent call last)",
      "\u001b[1;32m~\\AppData\\Local\\Temp\\ipykernel_16216\\1974948491.py\u001b[0m in \u001b[0;36m<module>\u001b[1;34m\u001b[0m\n\u001b[0;32m      1\u001b[0m \u001b[0mpd\u001b[0m\u001b[1;33m.\u001b[0m\u001b[0mset_option\u001b[0m\u001b[1;33m(\u001b[0m\u001b[1;34m'display.max_columns'\u001b[0m\u001b[1;33m,\u001b[0m \u001b[1;32mNone\u001b[0m\u001b[1;33m)\u001b[0m \u001b[1;31m# Setting up so we can see all the columns in a dataframe.\u001b[0m\u001b[1;33m\u001b[0m\u001b[1;33m\u001b[0m\u001b[0m\n\u001b[1;32m----> 2\u001b[1;33m \u001b[0mdf\u001b[0m \u001b[1;33m=\u001b[0m \u001b[0mpd\u001b[0m\u001b[1;33m.\u001b[0m\u001b[0mread_csv\u001b[0m\u001b[1;33m(\u001b[0m\u001b[1;34m'loan/loan.csv'\u001b[0m\u001b[1;33m)\u001b[0m\u001b[1;33m\u001b[0m\u001b[1;33m\u001b[0m\u001b[0m\n\u001b[0m\u001b[0;32m      3\u001b[0m \u001b[0mdf\u001b[0m\u001b[1;33m.\u001b[0m\u001b[0mhead\u001b[0m\u001b[1;33m(\u001b[0m\u001b[1;33m)\u001b[0m\u001b[1;33m\u001b[0m\u001b[1;33m\u001b[0m\u001b[0m\n",
      "\u001b[1;32m~\\anaconda3\\envs\\Healthark\\lib\\site-packages\\pandas\\util\\_decorators.py\u001b[0m in \u001b[0;36mwrapper\u001b[1;34m(*args, **kwargs)\u001b[0m\n\u001b[0;32m    309\u001b[0m                     \u001b[0mstacklevel\u001b[0m\u001b[1;33m=\u001b[0m\u001b[0mstacklevel\u001b[0m\u001b[1;33m,\u001b[0m\u001b[1;33m\u001b[0m\u001b[1;33m\u001b[0m\u001b[0m\n\u001b[0;32m    310\u001b[0m                 )\n\u001b[1;32m--> 311\u001b[1;33m             \u001b[1;32mreturn\u001b[0m \u001b[0mfunc\u001b[0m\u001b[1;33m(\u001b[0m\u001b[1;33m*\u001b[0m\u001b[0margs\u001b[0m\u001b[1;33m,\u001b[0m \u001b[1;33m**\u001b[0m\u001b[0mkwargs\u001b[0m\u001b[1;33m)\u001b[0m\u001b[1;33m\u001b[0m\u001b[1;33m\u001b[0m\u001b[0m\n\u001b[0m\u001b[0;32m    312\u001b[0m \u001b[1;33m\u001b[0m\u001b[0m\n\u001b[0;32m    313\u001b[0m         \u001b[1;32mreturn\u001b[0m \u001b[0mwrapper\u001b[0m\u001b[1;33m\u001b[0m\u001b[1;33m\u001b[0m\u001b[0m\n",
      "\u001b[1;32m~\\anaconda3\\envs\\Healthark\\lib\\site-packages\\pandas\\io\\parsers\\readers.py\u001b[0m in \u001b[0;36mread_csv\u001b[1;34m(filepath_or_buffer, sep, delimiter, header, names, index_col, usecols, squeeze, prefix, mangle_dupe_cols, dtype, engine, converters, true_values, false_values, skipinitialspace, skiprows, skipfooter, nrows, na_values, keep_default_na, na_filter, verbose, skip_blank_lines, parse_dates, infer_datetime_format, keep_date_col, date_parser, dayfirst, cache_dates, iterator, chunksize, compression, thousands, decimal, lineterminator, quotechar, quoting, doublequote, escapechar, comment, encoding, encoding_errors, dialect, error_bad_lines, warn_bad_lines, on_bad_lines, delim_whitespace, low_memory, memory_map, float_precision, storage_options)\u001b[0m\n\u001b[0;32m    676\u001b[0m     \u001b[0mkwds\u001b[0m\u001b[1;33m.\u001b[0m\u001b[0mupdate\u001b[0m\u001b[1;33m(\u001b[0m\u001b[0mkwds_defaults\u001b[0m\u001b[1;33m)\u001b[0m\u001b[1;33m\u001b[0m\u001b[1;33m\u001b[0m\u001b[0m\n\u001b[0;32m    677\u001b[0m \u001b[1;33m\u001b[0m\u001b[0m\n\u001b[1;32m--> 678\u001b[1;33m     \u001b[1;32mreturn\u001b[0m \u001b[0m_read\u001b[0m\u001b[1;33m(\u001b[0m\u001b[0mfilepath_or_buffer\u001b[0m\u001b[1;33m,\u001b[0m \u001b[0mkwds\u001b[0m\u001b[1;33m)\u001b[0m\u001b[1;33m\u001b[0m\u001b[1;33m\u001b[0m\u001b[0m\n\u001b[0m\u001b[0;32m    679\u001b[0m \u001b[1;33m\u001b[0m\u001b[0m\n\u001b[0;32m    680\u001b[0m \u001b[1;33m\u001b[0m\u001b[0m\n",
      "\u001b[1;32m~\\anaconda3\\envs\\Healthark\\lib\\site-packages\\pandas\\io\\parsers\\readers.py\u001b[0m in \u001b[0;36m_read\u001b[1;34m(filepath_or_buffer, kwds)\u001b[0m\n\u001b[0;32m    573\u001b[0m \u001b[1;33m\u001b[0m\u001b[0m\n\u001b[0;32m    574\u001b[0m     \u001b[1;31m# Create the parser.\u001b[0m\u001b[1;33m\u001b[0m\u001b[1;33m\u001b[0m\u001b[0m\n\u001b[1;32m--> 575\u001b[1;33m     \u001b[0mparser\u001b[0m \u001b[1;33m=\u001b[0m \u001b[0mTextFileReader\u001b[0m\u001b[1;33m(\u001b[0m\u001b[0mfilepath_or_buffer\u001b[0m\u001b[1;33m,\u001b[0m \u001b[1;33m**\u001b[0m\u001b[0mkwds\u001b[0m\u001b[1;33m)\u001b[0m\u001b[1;33m\u001b[0m\u001b[1;33m\u001b[0m\u001b[0m\n\u001b[0m\u001b[0;32m    576\u001b[0m \u001b[1;33m\u001b[0m\u001b[0m\n\u001b[0;32m    577\u001b[0m     \u001b[1;32mif\u001b[0m \u001b[0mchunksize\u001b[0m \u001b[1;32mor\u001b[0m \u001b[0miterator\u001b[0m\u001b[1;33m:\u001b[0m\u001b[1;33m\u001b[0m\u001b[1;33m\u001b[0m\u001b[0m\n",
      "\u001b[1;32m~\\anaconda3\\envs\\Healthark\\lib\\site-packages\\pandas\\io\\parsers\\readers.py\u001b[0m in \u001b[0;36m__init__\u001b[1;34m(self, f, engine, **kwds)\u001b[0m\n\u001b[0;32m    930\u001b[0m \u001b[1;33m\u001b[0m\u001b[0m\n\u001b[0;32m    931\u001b[0m         \u001b[0mself\u001b[0m\u001b[1;33m.\u001b[0m\u001b[0mhandles\u001b[0m\u001b[1;33m:\u001b[0m \u001b[0mIOHandles\u001b[0m \u001b[1;33m|\u001b[0m \u001b[1;32mNone\u001b[0m \u001b[1;33m=\u001b[0m \u001b[1;32mNone\u001b[0m\u001b[1;33m\u001b[0m\u001b[1;33m\u001b[0m\u001b[0m\n\u001b[1;32m--> 932\u001b[1;33m         \u001b[0mself\u001b[0m\u001b[1;33m.\u001b[0m\u001b[0m_engine\u001b[0m \u001b[1;33m=\u001b[0m \u001b[0mself\u001b[0m\u001b[1;33m.\u001b[0m\u001b[0m_make_engine\u001b[0m\u001b[1;33m(\u001b[0m\u001b[0mf\u001b[0m\u001b[1;33m,\u001b[0m \u001b[0mself\u001b[0m\u001b[1;33m.\u001b[0m\u001b[0mengine\u001b[0m\u001b[1;33m)\u001b[0m\u001b[1;33m\u001b[0m\u001b[1;33m\u001b[0m\u001b[0m\n\u001b[0m\u001b[0;32m    933\u001b[0m \u001b[1;33m\u001b[0m\u001b[0m\n\u001b[0;32m    934\u001b[0m     \u001b[1;32mdef\u001b[0m \u001b[0mclose\u001b[0m\u001b[1;33m(\u001b[0m\u001b[0mself\u001b[0m\u001b[1;33m)\u001b[0m\u001b[1;33m:\u001b[0m\u001b[1;33m\u001b[0m\u001b[1;33m\u001b[0m\u001b[0m\n",
      "\u001b[1;32m~\\anaconda3\\envs\\Healthark\\lib\\site-packages\\pandas\\io\\parsers\\readers.py\u001b[0m in \u001b[0;36m_make_engine\u001b[1;34m(self, f, engine)\u001b[0m\n\u001b[0;32m   1214\u001b[0m             \u001b[1;31m# \"Union[str, PathLike[str], ReadCsvBuffer[bytes], ReadCsvBuffer[str]]\"\u001b[0m\u001b[1;33m\u001b[0m\u001b[1;33m\u001b[0m\u001b[0m\n\u001b[0;32m   1215\u001b[0m             \u001b[1;31m# , \"str\", \"bool\", \"Any\", \"Any\", \"Any\", \"Any\", \"Any\"\u001b[0m\u001b[1;33m\u001b[0m\u001b[1;33m\u001b[0m\u001b[0m\n\u001b[1;32m-> 1216\u001b[1;33m             self.handles = get_handle(  # type: ignore[call-overload]\n\u001b[0m\u001b[0;32m   1217\u001b[0m                 \u001b[0mf\u001b[0m\u001b[1;33m,\u001b[0m\u001b[1;33m\u001b[0m\u001b[1;33m\u001b[0m\u001b[0m\n\u001b[0;32m   1218\u001b[0m                 \u001b[0mmode\u001b[0m\u001b[1;33m,\u001b[0m\u001b[1;33m\u001b[0m\u001b[1;33m\u001b[0m\u001b[0m\n",
      "\u001b[1;32m~\\anaconda3\\envs\\Healthark\\lib\\site-packages\\pandas\\io\\common.py\u001b[0m in \u001b[0;36mget_handle\u001b[1;34m(path_or_buf, mode, encoding, compression, memory_map, is_text, errors, storage_options)\u001b[0m\n\u001b[0;32m    784\u001b[0m         \u001b[1;32mif\u001b[0m \u001b[0mioargs\u001b[0m\u001b[1;33m.\u001b[0m\u001b[0mencoding\u001b[0m \u001b[1;32mand\u001b[0m \u001b[1;34m\"b\"\u001b[0m \u001b[1;32mnot\u001b[0m \u001b[1;32min\u001b[0m \u001b[0mioargs\u001b[0m\u001b[1;33m.\u001b[0m\u001b[0mmode\u001b[0m\u001b[1;33m:\u001b[0m\u001b[1;33m\u001b[0m\u001b[1;33m\u001b[0m\u001b[0m\n\u001b[0;32m    785\u001b[0m             \u001b[1;31m# Encoding\u001b[0m\u001b[1;33m\u001b[0m\u001b[1;33m\u001b[0m\u001b[0m\n\u001b[1;32m--> 786\u001b[1;33m             handle = open(\n\u001b[0m\u001b[0;32m    787\u001b[0m                 \u001b[0mhandle\u001b[0m\u001b[1;33m,\u001b[0m\u001b[1;33m\u001b[0m\u001b[1;33m\u001b[0m\u001b[0m\n\u001b[0;32m    788\u001b[0m                 \u001b[0mioargs\u001b[0m\u001b[1;33m.\u001b[0m\u001b[0mmode\u001b[0m\u001b[1;33m,\u001b[0m\u001b[1;33m\u001b[0m\u001b[1;33m\u001b[0m\u001b[0m\n",
      "\u001b[1;31mFileNotFoundError\u001b[0m: [Errno 2] No such file or directory: 'loan/loan.csv'"
     ]
    }
   ],
   "source": [
    "pd.set_option('display.max_columns', None) # Setting up so we can see all the columns in a dataframe. \n",
    "df = pd.read_csv('loan/loan.csv')\n",
    "df.head()"
   ]
  },
  {
   "cell_type": "markdown",
   "id": "b4c972b2",
   "metadata": {},
   "source": [
    "Checking a dimension of CSV file"
   ]
  },
  {
   "cell_type": "code",
   "execution_count": null,
   "id": "a2c845b6",
   "metadata": {},
   "outputs": [],
   "source": [
    "df.shape"
   ]
  },
  {
   "cell_type": "markdown",
   "id": "1e978211",
   "metadata": {},
   "source": [
    "We have 39717 rows and 111 features"
   ]
  },
  {
   "cell_type": "code",
   "execution_count": null,
   "id": "4490355d",
   "metadata": {},
   "outputs": [],
   "source": [
    "df.info()\n",
    "# Here We are unable to view of info of dataframe due to large number of features."
   ]
  },
  {
   "cell_type": "markdown",
   "id": "c3526241",
   "metadata": {},
   "source": [
    "#### Zipping the files and finding a number of null value column in our dataset"
   ]
  },
  {
   "cell_type": "code",
   "execution_count": null,
   "id": "62248232",
   "metadata": {
    "scrolled": true
   },
   "outputs": [],
   "source": [
    "x = df.isna().sum()\n",
    "y = df.columns \n",
    "zipped = enumerate(zip(x,y))\n",
    "\n",
    "for i, (x,y) in zipped:\n",
    "    print('{}: null values {} in column {}'.format(i,x,y))"
   ]
  },
  {
   "cell_type": "code",
   "execution_count": null,
   "id": "883cb93f",
   "metadata": {},
   "outputs": [],
   "source": [
    "# Printing all columns\n",
    "print(list(df.columns))"
   ]
  },
  {
   "cell_type": "markdown",
   "id": "2aaaf656",
   "metadata": {},
   "source": [
    "#### Dropping all columns with null values greater than 50%"
   ]
  },
  {
   "cell_type": "code",
   "execution_count": null,
   "id": "78491a09",
   "metadata": {},
   "outputs": [],
   "source": [
    "df = df.drop(columns=['id', 'member_id','desc','mths_since_last_delinq','mths_since_last_record', 'next_pymnt_d', \n",
    "                      'annual_inc_joint', 'dti_joint', 'verification_status_joint', 'tot_cur_bal', 'open_acc_6m',\n",
    "                      'open_il_6m', 'open_il_12m', 'open_il_24m', 'mths_since_rcnt_il', 'total_bal_il', 'il_util',\n",
    "                      'open_rv_12m', 'open_rv_24m', 'max_bal_bc', 'all_util', 'total_rev_hi_lim', 'inq_fi', 'total_cu_tl',\n",
    "                      'inq_last_12m', 'acc_open_past_24mths', 'avg_cur_bal', 'bc_open_to_buy', 'bc_util', 'mo_sin_old_il_acct',\n",
    "                     'mo_sin_old_rev_tl_op', 'mo_sin_rcnt_rev_tl_op', 'mo_sin_rcnt_tl', 'mort_acc', 'mths_since_recent_bc',\n",
    "                     'mths_since_recent_bc_dlq', 'mths_since_recent_inq', 'mths_since_recent_revol_delinq','num_accts_ever_120_pd',\n",
    "                     'num_actv_bc_tl', 'num_actv_rev_tl', 'num_bc_sats', 'num_bc_tl', 'num_il_tl', 'num_op_rev_tl',\n",
    "                     'num_rev_accts', 'num_rev_tl_bal_gt_0','num_sats','num_tl_120dpd_2m', 'num_tl_30dpd','num_tl_90g_dpd_24m',\n",
    "                     'num_tl_op_past_12m','pct_tl_nvr_dlq','percent_bc_gt_75', 'tot_hi_cred_lim', 'total_bal_ex_mort', 'total_bc_limit',\n",
    "                     'total_il_high_credit_limit','tot_coll_amt','mths_since_last_major_derog'\n",
    "                      ])"
   ]
  },
  {
   "cell_type": "markdown",
   "id": "d4d6fc11",
   "metadata": {},
   "source": [
    "#### Now checking the info of remaining columns"
   ]
  },
  {
   "cell_type": "code",
   "execution_count": null,
   "id": "63437f46",
   "metadata": {
    "scrolled": true
   },
   "outputs": [],
   "source": [
    "df.info()"
   ]
  },
  {
   "cell_type": "markdown",
   "id": "66193c0a",
   "metadata": {},
   "source": [
    "#### Finding the sum of null values present in dataframe"
   ]
  },
  {
   "cell_type": "code",
   "execution_count": null,
   "id": "4f6578c0",
   "metadata": {
    "scrolled": true
   },
   "outputs": [],
   "source": [
    "df.isna().sum()"
   ]
  },
  {
   "cell_type": "code",
   "execution_count": null,
   "id": "d16095af",
   "metadata": {},
   "outputs": [],
   "source": [
    "df.head()"
   ]
  },
  {
   "cell_type": "markdown",
   "id": "486254b6",
   "metadata": {},
   "source": [
    "#### Filtering the dataframe based on the 'Fully Paid' and 'Charged Off' loan from column loan_status amount"
   ]
  },
  {
   "cell_type": "code",
   "execution_count": null,
   "id": "4600a915",
   "metadata": {},
   "outputs": [],
   "source": [
    "df = df[df['loan_status'].isin(['Fully Paid','Charged Off'])]"
   ]
  },
  {
   "cell_type": "code",
   "execution_count": null,
   "id": "c0ef8e69",
   "metadata": {},
   "outputs": [],
   "source": [
    "df.head()"
   ]
  },
  {
   "cell_type": "code",
   "execution_count": null,
   "id": "4527f6f4",
   "metadata": {},
   "outputs": [],
   "source": [
    "df.select_dtypes(include=['float64','int64'])"
   ]
  },
  {
   "cell_type": "markdown",
   "id": "ce4d1ac0",
   "metadata": {},
   "source": [
    "There are 29 Columns with dtype of float and int"
   ]
  },
  {
   "cell_type": "markdown",
   "id": "7a550a6c",
   "metadata": {},
   "source": [
    "#### Now plotting a ditribution plot "
   ]
  },
  {
   "cell_type": "code",
   "execution_count": null,
   "id": "b216b2f4",
   "metadata": {
    "scrolled": false
   },
   "outputs": [],
   "source": [
    "fig, axes = plt.subplots(5, 2, figsize = (30,60)) # Setting up a size of an images and number of rows and column.\n",
    "sns.histplot(df, x=\"total_pymnt\",    hue=\"loan_status\", element=\"step\",ax = axes[0,0], kde=True) # Setting kde = true for geeting distribution line\n",
    "sns.histplot(df, x=\"total_pymnt_inv\",hue=\"loan_status\", element=\"step\",ax = axes[0,1], kde=True)\n",
    "sns.histplot(df, x=\"total_rec_prncp\",hue=\"loan_status\", element=\"step\",ax = axes[1,0], kde=True)\n",
    "sns.histplot(df, x=\"total_rec_int\",  hue=\"loan_status\", element=\"step\",ax = axes[1,1], kde=True)\n",
    "sns.histplot(df, x=\"total_rec_late_fee\",hue=\"loan_status\", element=\"step\",ax = axes[2,0], kde=True)\n",
    "sns.histplot(df, x=\"inq_last_6mths\", hue=\"loan_status\", element=\"step\",ax = axes[2,1], kde=True)\n",
    "sns.histplot(df, x=\"recoveries\",     hue=\"loan_status\", element=\"step\",ax = axes[3,0], kde=True)\n",
    "sns.histplot(df, x=\"last_pymnt_amnt\",hue=\"loan_status\", element=\"step\",ax = axes[3,1], kde=True)\n",
    "sns.histplot(df, x=\"revol_bal\",      hue=\"loan_status\", element=\"step\",ax = axes[4,0], kde=True)\n",
    "sns.histplot(df, x=\"total_acc\",      hue=\"loan_status\", element=\"step\",ax = axes[4,1], kde=True)\n",
    "plt.show()"
   ]
  },
  {
   "cell_type": "markdown",
   "id": "06f2a018",
   "metadata": {},
   "source": [
    "## Inference"
   ]
  },
  {
   "cell_type": "code",
   "execution_count": null,
   "id": "27c4c342",
   "metadata": {},
   "outputs": [],
   "source": [
    "fig, axes = plt.subplots(6, 2, figsize = (30,60))\n",
    "sns.histplot(df, x=\"loan_amnt\",       hue=\"loan_status\", element=\"step\", ax = axes[0,0], kde=True)\n",
    "sns.histplot(df, x=\"funded_amnt\",     hue=\"loan_status\", element=\"step\",ax = axes[0,1], kde=True)\n",
    "sns.histplot(df, x=\"funded_amnt_inv\", hue=\"loan_status\", element=\"step\",ax = axes[1,0], kde=True)\n",
    "sns.histplot(df, x=\"installment\",     hue=\"loan_status\", element=\"step\",ax = axes[1,1], kde=True)\n",
    "sns.histplot(df, x=\"annual_inc\",      hue=\"loan_status\", element=\"step\",ax = axes[2,0], kde=True)\n",
    "sns.histplot(df, x=\"dti\",             hue=\"loan_status\", element=\"step\",ax = axes[2,1], kde=True)\n",
    "sns.histplot(df, x=\"delinq_2yrs\",     hue=\"loan_status\", element=\"step\",ax = axes[3,0], kde=True)\n",
    "sns.histplot(df, x=\"inq_last_6mths\",  hue=\"loan_status\", element=\"step\",ax = axes[3,1], kde=True)\n",
    "sns.histplot(df, x=\"open_acc\",        hue=\"loan_status\", element=\"step\",ax = axes[4,0], kde=True)\n",
    "sns.histplot(df, x=\"pub_rec\",         hue=\"loan_status\", element=\"step\",ax = axes[4,1], kde=True)\n",
    "sns.histplot(df, x=\"revol_bal\",       hue=\"loan_status\", element=\"step\",ax = axes[5,0], kde=True)\n",
    "sns.histplot(df, x=\"total_acc\",       hue=\"loan_status\", element=\"step\",ax = axes[5,1], kde=True)\n",
    "plt.show()"
   ]
  },
  {
   "cell_type": "markdown",
   "id": "159074d7",
   "metadata": {},
   "source": [
    "## Inference"
   ]
  },
  {
   "cell_type": "markdown",
   "id": "7151eeb3",
   "metadata": {},
   "source": [
    "### Pie Plot for determing percentage of categorical distribution"
   ]
  },
  {
   "cell_type": "code",
   "execution_count": null,
   "id": "99a06e15",
   "metadata": {},
   "outputs": [],
   "source": [
    "home = df.home_ownership.value_counts()\n",
    "loanst = df.loan_status.value_counts()\n",
    "home_sum = df.home_ownership.value_counts().sum()\n",
    "loanst_sum = df.loan_status.value_counts().sum()\n",
    "\n",
    "homel = []\n",
    "loanl = []\n",
    "for i in list(home):\n",
    "    x=(i/home_sum)*100\n",
    "    homel.append(round(x,2)) \n",
    "    \n",
    "for i in list(loanst):\n",
    "    x=(i/loanst_sum)*100\n",
    "    loanl.append(round(x,2))\n",
    "    \n",
    "fig = make_subplots(rows=1, cols=2, specs=[[{'type':'domain'}, {'type':'domain'}]])\n",
    "fig.add_trace(go.Pie(values=[47.9, 44.12, 7.71, 0.25, 0.01], name=\"Grade of Loan\", \n",
    "                             textinfo='label+percent', labels=['RENT', 'MORTGAGE', 'OWN', 'OTHER', 'NONE']),\n",
    "              1, 1)\n",
    "fig.add_trace(go.Pie(values=[85.41, 14.59], name=\"employement length\", labels=['Fully Paid', 'Charged Off'], textinfo='label+percent'),\n",
    "              1, 2)\n",
    "\n",
    "# Use `hole` to create a donut-like pie chart\n",
    "fig.update_traces(hole=.7, hoverinfo=\"label+percent+name\")\n",
    "\n",
    "fig.update_layout(\n",
    "    title_text=\"Home Ownership and Status of Loan\",\n",
    "    # Add annotations in the center of the donut pies.\n",
    "    annotations=[dict(text='ownership of home', x=0.10, y=0.5, font_size=20, showarrow=False),\n",
    "                 dict(text='status of loan', x=0.87, y=0.5, font_size=20, showarrow=False)])\n",
    "fig.show()"
   ]
  },
  {
   "cell_type": "markdown",
   "id": "7b0b39f2",
   "metadata": {},
   "source": [
    "## Inference\n",
    "1. 44.1% of people have their home on mortgage, 47.9 % on rent, 7.71% people have there own home and 0.25%, 0.01% home ownership information we do not have.\n",
    "2. There are 14.6% peoples whose loans are charged off and 85.4% peoples loans are fully paid"
   ]
  },
  {
   "cell_type": "code",
   "execution_count": null,
   "id": "f8b61fb5",
   "metadata": {},
   "outputs": [],
   "source": [
    "pur_sum = []\n",
    "sum_pur = df.purpose.value_counts().sum()\n",
    "sum_coun = df.purpose.value_counts()\n",
    "\n",
    "list_sum=list(sum_coun.index)\n",
    "for i in list(sum_coun):\n",
    "    x = x=(i/sum_pur)*100\n",
    "    pur_sum.append(round(x,2))\n",
    "    \n",
    "label = list_sum\n",
    "fig = go.Figure(data=[go.Pie(values=pur_sum, name=\"Grade of Loan\", \n",
    "                             textinfo='label+percent', labels=list_sum, hole = 0.5)])\n",
    "fig.update_layout(\n",
    "    title_text=\"Purpose of taking a loan\")\n",
    "fig.show()"
   ]
  },
  {
   "cell_type": "markdown",
   "id": "12ea45b1",
   "metadata": {},
   "source": [
    "## Inference\n",
    "1. There are significant number of people (46.8%) taking loan for debt consolidation, 13% of people have credit loan, 10% of people have not decribed any reason.\n",
    "2. There are borrowers who have taken loan for major purposes like home renovation, major purchases, small business, car, wedding, medical etc."
   ]
  },
  {
   "cell_type": "code",
   "execution_count": null,
   "id": "40d934ad",
   "metadata": {},
   "outputs": [],
   "source": [
    "grade = df.grade.value_counts()\n",
    "sgrade = df.sub_grade.value_counts()\n",
    "sum_grade = df.grade.value_counts().sum()\n",
    "sum_sgrade = df.sub_grade.value_counts().sum()\n",
    "per_grade = []\n",
    "\n",
    "for i in grade:\n",
    "    x=(i/sum_grade)*100\n",
    "    per_grade.append(x)\n",
    "    \n",
    "per_sgrade = []\n",
    "for i in sgrade:\n",
    "    x=(i/sum_sgrade)*100\n",
    "    per_sgrade.append(round(x,2))"
   ]
  },
  {
   "cell_type": "code",
   "execution_count": null,
   "id": "b733e0f6",
   "metadata": {},
   "outputs": [],
   "source": [
    "label = ['B','A','C','D','E','F','G']\n",
    "fig = go.Figure(data=[go.Pie(values=[30.26, 26.03, 20.30, 13.18, 6.90, 2.53, 0.77], name=\"Grade of Loan\", \n",
    "                             textinfo='label+percent', labels=label, hole = 0.5)])\n",
    "fig.update_layout(\n",
    "    title_text=\"Grade of loan\")\n",
    "fig.show()"
   ]
  },
  {
   "cell_type": "markdown",
   "id": "82540615",
   "metadata": {},
   "source": [
    "## Inference\n",
    "1. People with loan grade are as follow B > A > C > D > E > F > G. People with B grade loan has highest percentage."
   ]
  },
  {
   "cell_type": "code",
   "execution_count": null,
   "id": "b2e55d27",
   "metadata": {},
   "outputs": [],
   "source": [
    "label1 = ['A4', 'B3', 'A5', 'B5', 'B4', 'C1', 'B2', 'C2', 'A3', 'B1', 'A2', 'C3',\n",
    "       'D2', 'C4', 'C5', 'A1', 'D3', 'D1', 'D4', 'D5', 'E1', 'E2', 'E3']\n",
    "fig = go.Figure(data=[go.Pie(values=[7.45, 7.32, 7.04, 6.78, 6.32, 5.33, 5.19, 5.01, 4.69, 4.66, 3.91, 3.86,\n",
    "                            3.33, 3.13, 2.99, 2.95, 2.89, 2.41, 2.38, 2.16, 1.87, 1.59, 1.34], \n",
    "                             name=\"employement length\", labels=label1, textinfo='label+percent', hole=.5)])\n",
    "fig.update_layout(\n",
    "    title_text=\"Sub Grade of loan\")\n",
    "fig.show()"
   ]
  },
  {
   "cell_type": "markdown",
   "id": "9ed3b5c7",
   "metadata": {},
   "source": [
    "## Inference\n",
    "1. Grade A4, B3, A5, B5, B4, C1, B2, C2 are the major sub grade of loan in all grade of loan."
   ]
  },
  {
   "cell_type": "code",
   "execution_count": null,
   "id": "0a0e4fa5",
   "metadata": {},
   "outputs": [],
   "source": [
    "years = df.emp_length.value_counts()\n",
    "add = df.emp_length.value_counts().sum()\n",
    "per = []\n",
    "for i in years:\n",
    "    x=(i/add)*100\n",
    "    per.append(x)\n",
    "total = 29096 + 9481\n",
    "total_36 = (29096/total) * 100\n",
    "total_60 = (9481/total) * 100\n",
    "\n",
    "# Create subplots: use 'domain' type for Pie subplot\n",
    "label = ['36 months', '60 months']\n",
    "label1 = ['10+ years', '< 1 year', '2 years', '3 years', '4 years', '5 years', '1 year', \n",
    "          '6 years', '7 years', '8 years', '9 years']\n",
    "fig = make_subplots(rows=1, cols=2, specs=[[{'type':'domain'}, {'type':'domain'}]])\n",
    "fig.add_trace(go.Pie(values=[total_36, total_60], name=\"term of loan\", textinfo='label+percent', labels=label),\n",
    "              1, 1)\n",
    "fig.add_trace(go.Pie(values=[22.60, 12.00, 11.42, 10.68,\n",
    "                                            8.90, 8.50,8.44, 5.77,\n",
    "                                            4.55, 3.82, 3.26], name=\"employement length\", labels=label1, textinfo='label+percent'),\n",
    "              1, 2)\n",
    "\n",
    "# Use `hole` to create a donut-like pie chart\n",
    "fig.update_traces(hole=.7, hoverinfo=\"label+percent+name\")\n",
    "\n",
    "fig.update_layout(\n",
    "    title_text=\"Loan Duration and Length of an employement\",\n",
    "    # Add annotations in the center of the donut pies.\n",
    "    annotations=[dict(text='Duration of loan', x=0.12, y=0.5, font_size=20, showarrow=False),\n",
    "                 dict(text='Length of an employement', x=0.93, y=0.5, font_size=17, showarrow=False)])\n",
    "fig.show()"
   ]
  },
  {
   "cell_type": "markdown",
   "id": "c69ca5c6",
   "metadata": {},
   "source": [
    "## Inference\n",
    "1. Borrowers have preferred loan duration of 36 months over 60 months.\n",
    "2. people with employement length of 10+ years has significant percentage, while people with employement length of < 1, 2, 3 year has taken more loan."
   ]
  },
  {
   "cell_type": "code",
   "execution_count": null,
   "id": "2cd87df7",
   "metadata": {
    "scrolled": true
   },
   "outputs": [],
   "source": [
    "df2 = df.select_dtypes(include=['float64','int64'])\n",
    "for i, col in enumerate(df2.columns):\n",
    "    print(col)\n",
    "    fig = go.Figure(data=go.Violin(y=df2[col], box_visible=True, line_color='black',\n",
    "                               meanline_visible=True, fillcolor='lightseagreen', opacity=0.6,\n",
    "                               x0=col, x=df['loan_status']))\n",
    "\n",
    "    fig.update_layout(title_text=col, yaxis_zeroline=False)\n",
    "    fig.show()"
   ]
  },
  {
   "cell_type": "markdown",
   "id": "6249dd1a",
   "metadata": {},
   "source": [
    "## Inference\n",
    "1. Median value (9.6k, 10k) of both fully paid and Charged off loans are almost same.\n",
    "2. People are taking loan more in range of .2k to 16.5k.\n",
    "3. Most amount is funded in range of 5.5k and 16k.\n",
    "4. Out of total funding most invested amount are in range of 5k to 15k. \n",
    "5. Borrowers who has fully paid loan are more likely to repay there loan in less installments as compared to borrowers who are charged off.\n",
    "6. Borrowers having higher annual income are more likely to repay loan.\n",
    "7. dti of Fully paid borrowers is higher than dti of charged off borrowers.\n",
    "8. Borrowers with good credit history has opened account in slight higher number compared to charged off borrowers.\n",
    "9. Revolving credit balance is higher compared in fully paid loans.\n",
    "10. Total payment received are more in fully paid compared to charged off.\n",
    "11. Payments received to date for portion of total amount funded by investors is higher in fully paid compared to charged off.\n",
    "12. Principal is amount is recovered higher in Fully Paid.\n",
    "13. Late fees are applicable in both fully paid and charged off loan.\n",
    "14. Recoveried and collection recoveries fees are there on charged off loans.\n"
   ]
  },
  {
   "cell_type": "markdown",
   "id": "54aa9858",
   "metadata": {},
   "source": [
    "## Behaviourial Analytics"
   ]
  },
  {
   "cell_type": "code",
   "execution_count": null,
   "id": "85a04393",
   "metadata": {},
   "outputs": [],
   "source": [
    "fuli_p = df[df['loan_status'].isin(['Fully Paid'])]"
   ]
  },
  {
   "cell_type": "code",
   "execution_count": null,
   "id": "afd57b07",
   "metadata": {},
   "outputs": [],
   "source": [
    "fuli_p"
   ]
  },
  {
   "cell_type": "code",
   "execution_count": null,
   "id": "f210caf7",
   "metadata": {},
   "outputs": [],
   "source": [
    "df['funded_Uninvested'] = df['funded_amnt'] - df['funded_amnt_inv']\n",
    "print('{} has surplus ammount of uninvested money'.format(round(df['funded_Uninvested'].sum(),2)))"
   ]
  },
  {
   "cell_type": "code",
   "execution_count": null,
   "id": "15309ae9",
   "metadata": {},
   "outputs": [],
   "source": [
    "# To tal amount remaining uninvested\n",
    "df['Uninvested'] = df['total_pymnt'] - df['total_pymnt_inv']\n",
    "print('{} has surplus ammount of uninvested money'.format(round(df['Uninvested'].sum(),2)))"
   ]
  },
  {
   "cell_type": "code",
   "execution_count": null,
   "id": "6630c99f",
   "metadata": {},
   "outputs": [],
   "source": [
    "home = fuli_p.home_ownership.value_counts()\n",
    "loanst = fuli_p.loan_status.value_counts()\n",
    "home_sum = fuli_p.home_ownership.value_counts().sum()\n",
    "loanst_sum = fuli_p.loan_status.value_counts().sum()\n",
    "\n",
    "homel = []\n",
    "loanl = []\n",
    "for i in list(home):\n",
    "    x=(i/home_sum)*100\n",
    "    homel.append(round(x,2)) \n",
    "    \n",
    "for i in list(loanst):\n",
    "    x=(i/loanst_sum)*100\n",
    "    loanl.append(round(x,2))\n",
    "    \n",
    "fig = make_subplots(rows=1, cols=2, specs=[[{'type':'domain'}, {'type':'domain'}]])\n",
    "fig.add_trace(go.Pie(values=homel, name=\"Grade of Loan\", \n",
    "                             textinfo='label+percent', labels=['RENT', 'MORTGAGE', 'OWN', 'OTHER', 'NONE']),\n",
    "              1, 1)\n",
    "fig.add_trace(go.Pie(values=loanl, name=\"employement length\", labels=['Fully Paid', 'Charged Off'], textinfo='label+percent'),\n",
    "              1, 2)\n",
    "\n",
    "# Use `hole` to create a donut-like pie chart\n",
    "fig.update_traces(hole=.7, hoverinfo=\"label+percent+name\")\n",
    "\n",
    "fig.update_layout(\n",
    "    title_text=\"Home Ownership and Status of Loan (Fully Paid)\",\n",
    "    # Add annotations in the center of the donut pies.\n",
    "    annotations=[dict(text='ownership of home', x=0.10, y=0.5, font_size=20, showarrow=False),\n",
    "                 dict(text='status of loan', x=0.87, y=0.5, font_size=20, showarrow=False)])\n",
    "fig.show()"
   ]
  },
  {
   "cell_type": "code",
   "execution_count": null,
   "id": "5a7639dc",
   "metadata": {},
   "outputs": [],
   "source": [
    "pur_sum = []\n",
    "sum_pur = fuli_p.purpose.value_counts().sum()\n",
    "sum_coun = fuli_p.purpose.value_counts()\n",
    "\n",
    "list_sum=list(sum_coun.index)\n",
    "for i in list(sum_coun):\n",
    "    x = x=(i/sum_pur)*100\n",
    "    pur_sum.append(round(x,2))\n",
    "    \n",
    "label = list_sum\n",
    "fig = go.Figure(data=[go.Pie(values=pur_sum, name=\"Grade of Loan\", \n",
    "                             textinfo='label+percent', labels=list_sum, hole = 0.5)])\n",
    "fig.update_layout(\n",
    "    title_text=\"Purpose of taking a loan (Fully Paid)\")\n",
    "fig.show()"
   ]
  },
  {
   "cell_type": "code",
   "execution_count": null,
   "id": "784d6252",
   "metadata": {},
   "outputs": [],
   "source": [
    "grade = fuli_p.grade.value_counts()\n",
    "sgrade = fuli_p.sub_grade.value_counts()\n",
    "sum_grade = fuli_p.grade.value_counts().sum()\n",
    "sum_sgrade = fuli_p.sub_grade.value_counts().sum()\n",
    "per_grade = []\n",
    "\n",
    "for i in grade:\n",
    "    x=(i/sum_grade)*100\n",
    "    per_grade.append(round(x,2))\n",
    "    \n",
    "per_sgrade = []\n",
    "for i in sgrade:\n",
    "    x=(i/sum_sgrade)*100\n",
    "    per_sgrade.append(round(x,2))"
   ]
  },
  {
   "cell_type": "code",
   "execution_count": null,
   "id": "4eceb0e0",
   "metadata": {},
   "outputs": [],
   "source": [
    "label = ['B','A','C','D','E','F','G']\n",
    "fig = go.Figure(data=[go.Pie(values=[31.11, 28.66, 19.69, 12.04, 5.91, 1.99, 0.6], name=\"Grade of Loan\", \n",
    "                             textinfo='label+percent', labels=label, hole = 0.5)])\n",
    "fig.update_layout(\n",
    "    title_text=\"Grade of loan (Fully Paid)\")\n",
    "fig.show()"
   ]
  },
  {
   "cell_type": "code",
   "execution_count": null,
   "id": "77a53028",
   "metadata": {},
   "outputs": [],
   "source": [
    "label1 = ['A4', 'B3', 'A5', 'B5', 'B4', 'C1', 'B2', 'C2', 'A3', 'B1', 'A2', 'C3',\n",
    "       'D2', 'C4', 'C5', 'A1', 'D3', 'D1', 'D4', 'D5', 'E1', 'E2', 'E3']\n",
    "fig = go.Figure(data=[go.Pie(values=per_sgrade, \n",
    "                             name=\"employement length\", labels=label1, textinfo='label+percent', hole=.5)])\n",
    "fig.update_layout(\n",
    "    title_text=\"Sub Grade of loan (Fully Paid)\")\n",
    "fig.show()"
   ]
  },
  {
   "cell_type": "code",
   "execution_count": null,
   "id": "b6bdf8ff",
   "metadata": {},
   "outputs": [],
   "source": [
    "years = fuli_p.emp_length.value_counts()\n",
    "add = fuli_p.emp_length.value_counts().sum()\n",
    "per = []\n",
    "for i in years:\n",
    "    x=(i/add)*100\n",
    "    per.append(round(x,2))\n",
    "total = 25869 + 7081\n",
    "total_36 = (25869/total) * 100\n",
    "total_60 = (7081/total) * 100\n",
    "\n",
    "# Create subplots: use 'domain' type for Pie subplot\n",
    "label = ['36 months', '60 months']\n",
    "label1 = ['10+ years', '< 1 year', '2 years', '3 years', '4 years', '5 years', '1 year', \n",
    "          '6 years', '7 years', '8 years', '9 years']\n",
    "fig = make_subplots(rows=1, cols=2, specs=[[{'type':'domain'}, {'type':'domain'}]])\n",
    "fig.add_trace(go.Pie(values=[total_36, total_60], name=\"term of loan\", textinfo='label+percent', labels=label),\n",
    "              1, 1)\n",
    "fig.add_trace(go.Pie(values=[22.26, 12.04, 11.59, 10.75, 8.96, 8.51, 8.44, 5.79, 4.5, 3.83, 3.32], \n",
    "                     name=\"employement length\", labels=label1, textinfo='label+percent'),\n",
    "              1, 2)\n",
    "\n",
    "# Use `hole` to create a donut-like pie chart\n",
    "fig.update_traces(hole=.7, hoverinfo=\"label+percent+name\")\n",
    "\n",
    "fig.update_layout(\n",
    "    title_text=\"Loan Duration and Length of an employement (Fully Paid)\",\n",
    "    # Add annotations in the center of the donut pies.\n",
    "    annotations=[dict(text='Duration of loan', x=0.12, y=0.5, font_size=20, showarrow=False),\n",
    "                 dict(text='Length of an employement', x=0.93, y=0.5, font_size=17, showarrow=False)])\n",
    "fig.show()"
   ]
  },
  {
   "cell_type": "code",
   "execution_count": null,
   "id": "0b706e59",
   "metadata": {},
   "outputs": [],
   "source": []
  }
 ],
 "metadata": {
  "kernelspec": {
   "display_name": "Python 3 (ipykernel)",
   "language": "python",
   "name": "python3"
  },
  "language_info": {
   "codemirror_mode": {
    "name": "ipython",
    "version": 3
   },
   "file_extension": ".py",
   "mimetype": "text/x-python",
   "name": "python",
   "nbconvert_exporter": "python",
   "pygments_lexer": "ipython3",
   "version": "3.10.4"
  }
 },
 "nbformat": 4,
 "nbformat_minor": 5
}
